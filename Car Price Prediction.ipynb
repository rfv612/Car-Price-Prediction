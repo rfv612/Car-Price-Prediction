{
 "cells": [
  {
   "cell_type": "code",
   "execution_count": 1,
   "metadata": {},
   "outputs": [],
   "source": [
    "import numpy as np\n",
    "import pandas as pd\n",
    "df=pd.read_excel(\"Data_Train.xlsx\")\n",
    "df_test=pd.read_excel(\"Data_Test.xlsx\")"
   ]
  },
  {
   "cell_type": "code",
   "execution_count": 2,
   "metadata": {},
   "outputs": [
    {
     "data": {
      "text/plain": [
       "Name                  0\n",
       "Location              0\n",
       "Year                  0\n",
       "Kilometers_Driven     0\n",
       "Fuel_Type             0\n",
       "Transmission          0\n",
       "Owner_Type            0\n",
       "Mileage               2\n",
       "Engine               36\n",
       "Power                36\n",
       "Seats                42\n",
       "Price                 0\n",
       "dtype: int64"
      ]
     },
     "execution_count": 2,
     "metadata": {},
     "output_type": "execute_result"
    }
   ],
   "source": [
    "df.isnull().sum()"
   ]
  },
  {
   "cell_type": "code",
   "execution_count": 3,
   "metadata": {
    "scrolled": true
   },
   "outputs": [],
   "source": [
    "df['Name']=df.Name.str.replace(' ','_')\n",
    "Brand=df.Name.str.split('_').apply(lambda Brand : Brand[0]).astype(str)\n",
    "Car_Name=df.Name.str.split('_').apply(lambda Car_Name : Car_Name[1]).astype(str)\n",
    "Version=df.Name.str.split('_').apply(lambda Version : Version[2:]).astype(str)\n",
    "\n",
    "df_test['Name']=df_test.Name.str.replace(' ','_')\n",
    "Brand_test=df_test.Name.str.split('_').apply(lambda Brand_test : Brand_test[0]).astype(str)\n",
    "Car_Name_test=df_test.Name.str.split('_').apply(lambda Car_Name_test : Car_Name_test[1]).astype(str)\n",
    "Version_test=df_test.Name.str.split('_').apply(lambda Version_test : Version_test[2:]).astype(str)"
   ]
  },
  {
   "cell_type": "code",
   "execution_count": 4,
   "metadata": {},
   "outputs": [],
   "source": [
    "df.insert(0,\"Brand\",Brand)\n",
    "df.insert(1,\"Car_Name\",Car_Name)\n",
    "df.insert(2,\"Version\",Version)\n",
    "\n",
    "df_test.insert(0,\"Brand_test\",Brand_test)\n",
    "df_test.insert(1,\"Car_Name_test\",Car_Name_test)\n",
    "df_test.insert(2,\"Version_test\",Version_test)"
   ]
  },
  {
   "cell_type": "code",
   "execution_count": 5,
   "metadata": {},
   "outputs": [],
   "source": [
    "df['Version']=df['Version'].str.strip('[]').astype(str)\n",
    "df['Version']=df['Version'].str.replace(\"'\", '')\n",
    "df['Version']=df['Version'].str.replace(',','_')\n",
    "\n",
    "df_test['Version_test']=df_test['Version_test'].str.strip('[]').astype(str)\n",
    "df_test['Version_test']=df_test['Version_test'].str.replace(\"'\", '')\n",
    "df_test['Version_test']=df_test['Version_test'].str.replace(',','_')"
   ]
  },
  {
   "cell_type": "code",
   "execution_count": 6,
   "metadata": {},
   "outputs": [],
   "source": [
    "df['Brand']=df['Brand'].str.strip()\n",
    "df['Car_Name']=df['Car_Name'].str.strip()\n",
    "df['Version']=df['Version'].str.strip()\n",
    "\n",
    "df_test['Brand_test']=df_test['Brand_test'].str.strip()\n",
    "df_test['Car_Name_test']=df_test['Car_Name_test'].str.strip()\n",
    "df_test['Version_test']=df_test['Version_test'].str.strip()"
   ]
  },
  {
   "cell_type": "code",
   "execution_count": 7,
   "metadata": {},
   "outputs": [
    {
     "data": {
      "text/html": [
       "<div>\n",
       "<style scoped>\n",
       "    .dataframe tbody tr th:only-of-type {\n",
       "        vertical-align: middle;\n",
       "    }\n",
       "\n",
       "    .dataframe tbody tr th {\n",
       "        vertical-align: top;\n",
       "    }\n",
       "\n",
       "    .dataframe thead th {\n",
       "        text-align: right;\n",
       "    }\n",
       "</style>\n",
       "<table border=\"1\" class=\"dataframe\">\n",
       "  <thead>\n",
       "    <tr style=\"text-align: right;\">\n",
       "      <th></th>\n",
       "      <th>Brand</th>\n",
       "      <th>Car_Name</th>\n",
       "      <th>Version</th>\n",
       "      <th>Name</th>\n",
       "      <th>Location</th>\n",
       "      <th>Year</th>\n",
       "      <th>Kilometers_Driven</th>\n",
       "      <th>Fuel_Type</th>\n",
       "      <th>Transmission</th>\n",
       "      <th>Owner_Type</th>\n",
       "      <th>Mileage</th>\n",
       "      <th>Engine</th>\n",
       "      <th>Power</th>\n",
       "      <th>Seats</th>\n",
       "      <th>Price</th>\n",
       "    </tr>\n",
       "  </thead>\n",
       "  <tbody>\n",
       "    <tr>\n",
       "      <th>0</th>\n",
       "      <td>Maruti</td>\n",
       "      <td>Wagon</td>\n",
       "      <td>R_ LXI_ CNG</td>\n",
       "      <td>Maruti_Wagon_R_LXI_CNG</td>\n",
       "      <td>Mumbai</td>\n",
       "      <td>2010</td>\n",
       "      <td>72000</td>\n",
       "      <td>CNG</td>\n",
       "      <td>Manual</td>\n",
       "      <td>First</td>\n",
       "      <td>26.6 km/kg</td>\n",
       "      <td>998 CC</td>\n",
       "      <td>58.16 bhp</td>\n",
       "      <td>5.0</td>\n",
       "      <td>1.75</td>\n",
       "    </tr>\n",
       "    <tr>\n",
       "      <th>1</th>\n",
       "      <td>Hyundai</td>\n",
       "      <td>Creta</td>\n",
       "      <td>1.6_ CRDi_ SX_ Option</td>\n",
       "      <td>Hyundai_Creta_1.6_CRDi_SX_Option</td>\n",
       "      <td>Pune</td>\n",
       "      <td>2015</td>\n",
       "      <td>41000</td>\n",
       "      <td>Diesel</td>\n",
       "      <td>Manual</td>\n",
       "      <td>First</td>\n",
       "      <td>19.67 kmpl</td>\n",
       "      <td>1582 CC</td>\n",
       "      <td>126.2 bhp</td>\n",
       "      <td>5.0</td>\n",
       "      <td>12.50</td>\n",
       "    </tr>\n",
       "    <tr>\n",
       "      <th>2</th>\n",
       "      <td>Honda</td>\n",
       "      <td>Jazz</td>\n",
       "      <td>V</td>\n",
       "      <td>Honda_Jazz_V</td>\n",
       "      <td>Chennai</td>\n",
       "      <td>2011</td>\n",
       "      <td>46000</td>\n",
       "      <td>Petrol</td>\n",
       "      <td>Manual</td>\n",
       "      <td>First</td>\n",
       "      <td>18.2 kmpl</td>\n",
       "      <td>1199 CC</td>\n",
       "      <td>88.7 bhp</td>\n",
       "      <td>5.0</td>\n",
       "      <td>4.50</td>\n",
       "    </tr>\n",
       "    <tr>\n",
       "      <th>3</th>\n",
       "      <td>Maruti</td>\n",
       "      <td>Ertiga</td>\n",
       "      <td>VDI</td>\n",
       "      <td>Maruti_Ertiga_VDI</td>\n",
       "      <td>Chennai</td>\n",
       "      <td>2012</td>\n",
       "      <td>87000</td>\n",
       "      <td>Diesel</td>\n",
       "      <td>Manual</td>\n",
       "      <td>First</td>\n",
       "      <td>20.77 kmpl</td>\n",
       "      <td>1248 CC</td>\n",
       "      <td>88.76 bhp</td>\n",
       "      <td>7.0</td>\n",
       "      <td>6.00</td>\n",
       "    </tr>\n",
       "    <tr>\n",
       "      <th>4</th>\n",
       "      <td>Audi</td>\n",
       "      <td>A4</td>\n",
       "      <td>New_ 2.0_ TDI_ Multitronic</td>\n",
       "      <td>Audi_A4_New_2.0_TDI_Multitronic</td>\n",
       "      <td>Coimbatore</td>\n",
       "      <td>2013</td>\n",
       "      <td>40670</td>\n",
       "      <td>Diesel</td>\n",
       "      <td>Automatic</td>\n",
       "      <td>Second</td>\n",
       "      <td>15.2 kmpl</td>\n",
       "      <td>1968 CC</td>\n",
       "      <td>140.8 bhp</td>\n",
       "      <td>5.0</td>\n",
       "      <td>17.74</td>\n",
       "    </tr>\n",
       "    <tr>\n",
       "      <th>...</th>\n",
       "      <td>...</td>\n",
       "      <td>...</td>\n",
       "      <td>...</td>\n",
       "      <td>...</td>\n",
       "      <td>...</td>\n",
       "      <td>...</td>\n",
       "      <td>...</td>\n",
       "      <td>...</td>\n",
       "      <td>...</td>\n",
       "      <td>...</td>\n",
       "      <td>...</td>\n",
       "      <td>...</td>\n",
       "      <td>...</td>\n",
       "      <td>...</td>\n",
       "      <td>...</td>\n",
       "    </tr>\n",
       "    <tr>\n",
       "      <th>6014</th>\n",
       "      <td>Maruti</td>\n",
       "      <td>Swift</td>\n",
       "      <td>VDI</td>\n",
       "      <td>Maruti_Swift_VDI</td>\n",
       "      <td>Delhi</td>\n",
       "      <td>2014</td>\n",
       "      <td>27365</td>\n",
       "      <td>Diesel</td>\n",
       "      <td>Manual</td>\n",
       "      <td>First</td>\n",
       "      <td>28.4 kmpl</td>\n",
       "      <td>1248 CC</td>\n",
       "      <td>74 bhp</td>\n",
       "      <td>5.0</td>\n",
       "      <td>4.75</td>\n",
       "    </tr>\n",
       "    <tr>\n",
       "      <th>6015</th>\n",
       "      <td>Hyundai</td>\n",
       "      <td>Xcent</td>\n",
       "      <td>1.1_ CRDi_ S</td>\n",
       "      <td>Hyundai_Xcent_1.1_CRDi_S</td>\n",
       "      <td>Jaipur</td>\n",
       "      <td>2015</td>\n",
       "      <td>100000</td>\n",
       "      <td>Diesel</td>\n",
       "      <td>Manual</td>\n",
       "      <td>First</td>\n",
       "      <td>24.4 kmpl</td>\n",
       "      <td>1120 CC</td>\n",
       "      <td>71 bhp</td>\n",
       "      <td>5.0</td>\n",
       "      <td>4.00</td>\n",
       "    </tr>\n",
       "    <tr>\n",
       "      <th>6016</th>\n",
       "      <td>Mahindra</td>\n",
       "      <td>Xylo</td>\n",
       "      <td>D4_ BSIV</td>\n",
       "      <td>Mahindra_Xylo_D4_BSIV</td>\n",
       "      <td>Jaipur</td>\n",
       "      <td>2012</td>\n",
       "      <td>55000</td>\n",
       "      <td>Diesel</td>\n",
       "      <td>Manual</td>\n",
       "      <td>Second</td>\n",
       "      <td>14.0 kmpl</td>\n",
       "      <td>2498 CC</td>\n",
       "      <td>112 bhp</td>\n",
       "      <td>8.0</td>\n",
       "      <td>2.90</td>\n",
       "    </tr>\n",
       "    <tr>\n",
       "      <th>6017</th>\n",
       "      <td>Maruti</td>\n",
       "      <td>Wagon</td>\n",
       "      <td>R_ VXI</td>\n",
       "      <td>Maruti_Wagon_R_VXI</td>\n",
       "      <td>Kolkata</td>\n",
       "      <td>2013</td>\n",
       "      <td>46000</td>\n",
       "      <td>Petrol</td>\n",
       "      <td>Manual</td>\n",
       "      <td>First</td>\n",
       "      <td>18.9 kmpl</td>\n",
       "      <td>998 CC</td>\n",
       "      <td>67.1 bhp</td>\n",
       "      <td>5.0</td>\n",
       "      <td>2.65</td>\n",
       "    </tr>\n",
       "    <tr>\n",
       "      <th>6018</th>\n",
       "      <td>Chevrolet</td>\n",
       "      <td>Beat</td>\n",
       "      <td>Diesel</td>\n",
       "      <td>Chevrolet_Beat_Diesel</td>\n",
       "      <td>Hyderabad</td>\n",
       "      <td>2011</td>\n",
       "      <td>47000</td>\n",
       "      <td>Diesel</td>\n",
       "      <td>Manual</td>\n",
       "      <td>First</td>\n",
       "      <td>25.44 kmpl</td>\n",
       "      <td>936 CC</td>\n",
       "      <td>57.6 bhp</td>\n",
       "      <td>5.0</td>\n",
       "      <td>2.50</td>\n",
       "    </tr>\n",
       "  </tbody>\n",
       "</table>\n",
       "<p>6019 rows × 15 columns</p>\n",
       "</div>"
      ],
      "text/plain": [
       "          Brand Car_Name                     Version  \\\n",
       "0        Maruti    Wagon                 R_ LXI_ CNG   \n",
       "1       Hyundai    Creta       1.6_ CRDi_ SX_ Option   \n",
       "2         Honda     Jazz                           V   \n",
       "3        Maruti   Ertiga                         VDI   \n",
       "4          Audi       A4  New_ 2.0_ TDI_ Multitronic   \n",
       "...         ...      ...                         ...   \n",
       "6014     Maruti    Swift                         VDI   \n",
       "6015    Hyundai    Xcent                1.1_ CRDi_ S   \n",
       "6016   Mahindra     Xylo                    D4_ BSIV   \n",
       "6017     Maruti    Wagon                      R_ VXI   \n",
       "6018  Chevrolet     Beat                      Diesel   \n",
       "\n",
       "                                  Name    Location  Year  Kilometers_Driven  \\\n",
       "0               Maruti_Wagon_R_LXI_CNG      Mumbai  2010              72000   \n",
       "1     Hyundai_Creta_1.6_CRDi_SX_Option        Pune  2015              41000   \n",
       "2                         Honda_Jazz_V     Chennai  2011              46000   \n",
       "3                    Maruti_Ertiga_VDI     Chennai  2012              87000   \n",
       "4      Audi_A4_New_2.0_TDI_Multitronic  Coimbatore  2013              40670   \n",
       "...                                ...         ...   ...                ...   \n",
       "6014                  Maruti_Swift_VDI       Delhi  2014              27365   \n",
       "6015          Hyundai_Xcent_1.1_CRDi_S      Jaipur  2015             100000   \n",
       "6016             Mahindra_Xylo_D4_BSIV      Jaipur  2012              55000   \n",
       "6017                Maruti_Wagon_R_VXI     Kolkata  2013              46000   \n",
       "6018             Chevrolet_Beat_Diesel   Hyderabad  2011              47000   \n",
       "\n",
       "     Fuel_Type Transmission Owner_Type     Mileage   Engine      Power  Seats  \\\n",
       "0          CNG       Manual      First  26.6 km/kg   998 CC  58.16 bhp    5.0   \n",
       "1       Diesel       Manual      First  19.67 kmpl  1582 CC  126.2 bhp    5.0   \n",
       "2       Petrol       Manual      First   18.2 kmpl  1199 CC   88.7 bhp    5.0   \n",
       "3       Diesel       Manual      First  20.77 kmpl  1248 CC  88.76 bhp    7.0   \n",
       "4       Diesel    Automatic     Second   15.2 kmpl  1968 CC  140.8 bhp    5.0   \n",
       "...        ...          ...        ...         ...      ...        ...    ...   \n",
       "6014    Diesel       Manual      First   28.4 kmpl  1248 CC     74 bhp    5.0   \n",
       "6015    Diesel       Manual      First   24.4 kmpl  1120 CC     71 bhp    5.0   \n",
       "6016    Diesel       Manual     Second   14.0 kmpl  2498 CC    112 bhp    8.0   \n",
       "6017    Petrol       Manual      First   18.9 kmpl   998 CC   67.1 bhp    5.0   \n",
       "6018    Diesel       Manual      First  25.44 kmpl   936 CC   57.6 bhp    5.0   \n",
       "\n",
       "      Price  \n",
       "0      1.75  \n",
       "1     12.50  \n",
       "2      4.50  \n",
       "3      6.00  \n",
       "4     17.74  \n",
       "...     ...  \n",
       "6014   4.75  \n",
       "6015   4.00  \n",
       "6016   2.90  \n",
       "6017   2.65  \n",
       "6018   2.50  \n",
       "\n",
       "[6019 rows x 15 columns]"
      ]
     },
     "execution_count": 7,
     "metadata": {},
     "output_type": "execute_result"
    }
   ],
   "source": [
    "df"
   ]
  },
  {
   "cell_type": "code",
   "execution_count": 8,
   "metadata": {},
   "outputs": [
    {
     "data": {
      "text/html": [
       "<div>\n",
       "<style scoped>\n",
       "    .dataframe tbody tr th:only-of-type {\n",
       "        vertical-align: middle;\n",
       "    }\n",
       "\n",
       "    .dataframe tbody tr th {\n",
       "        vertical-align: top;\n",
       "    }\n",
       "\n",
       "    .dataframe thead th {\n",
       "        text-align: right;\n",
       "    }\n",
       "</style>\n",
       "<table border=\"1\" class=\"dataframe\">\n",
       "  <thead>\n",
       "    <tr style=\"text-align: right;\">\n",
       "      <th></th>\n",
       "      <th>Brand_test</th>\n",
       "      <th>Car_Name_test</th>\n",
       "      <th>Version_test</th>\n",
       "      <th>Name</th>\n",
       "      <th>Location</th>\n",
       "      <th>Year</th>\n",
       "      <th>Kilometers_Driven</th>\n",
       "      <th>Fuel_Type</th>\n",
       "      <th>Transmission</th>\n",
       "      <th>Owner_Type</th>\n",
       "      <th>Mileage</th>\n",
       "      <th>Engine</th>\n",
       "      <th>Power</th>\n",
       "      <th>Seats</th>\n",
       "    </tr>\n",
       "  </thead>\n",
       "  <tbody>\n",
       "    <tr>\n",
       "      <th>0</th>\n",
       "      <td>Maruti</td>\n",
       "      <td>Alto</td>\n",
       "      <td>K10_ LXI_ CNG</td>\n",
       "      <td>Maruti_Alto_K10_LXI_CNG</td>\n",
       "      <td>Delhi</td>\n",
       "      <td>2014</td>\n",
       "      <td>40929</td>\n",
       "      <td>CNG</td>\n",
       "      <td>Manual</td>\n",
       "      <td>First</td>\n",
       "      <td>32.26 km/kg</td>\n",
       "      <td>998 CC</td>\n",
       "      <td>58.2 bhp</td>\n",
       "      <td>4.0</td>\n",
       "    </tr>\n",
       "    <tr>\n",
       "      <th>1</th>\n",
       "      <td>Maruti</td>\n",
       "      <td>Alto</td>\n",
       "      <td>800_ 2016-2019_ LXI</td>\n",
       "      <td>Maruti_Alto_800_2016-2019_LXI</td>\n",
       "      <td>Coimbatore</td>\n",
       "      <td>2013</td>\n",
       "      <td>54493</td>\n",
       "      <td>Petrol</td>\n",
       "      <td>Manual</td>\n",
       "      <td>Second</td>\n",
       "      <td>24.7 kmpl</td>\n",
       "      <td>796 CC</td>\n",
       "      <td>47.3 bhp</td>\n",
       "      <td>5.0</td>\n",
       "    </tr>\n",
       "    <tr>\n",
       "      <th>2</th>\n",
       "      <td>Toyota</td>\n",
       "      <td>Innova</td>\n",
       "      <td>Crysta_ Touring_ Sport_ 2.4_ MT</td>\n",
       "      <td>Toyota_Innova_Crysta_Touring_Sport_2.4_MT</td>\n",
       "      <td>Mumbai</td>\n",
       "      <td>2017</td>\n",
       "      <td>34000</td>\n",
       "      <td>Diesel</td>\n",
       "      <td>Manual</td>\n",
       "      <td>First</td>\n",
       "      <td>13.68 kmpl</td>\n",
       "      <td>2393 CC</td>\n",
       "      <td>147.8 bhp</td>\n",
       "      <td>7.0</td>\n",
       "    </tr>\n",
       "    <tr>\n",
       "      <th>3</th>\n",
       "      <td>Toyota</td>\n",
       "      <td>Etios</td>\n",
       "      <td>Liva_ GD</td>\n",
       "      <td>Toyota_Etios_Liva_GD</td>\n",
       "      <td>Hyderabad</td>\n",
       "      <td>2012</td>\n",
       "      <td>139000</td>\n",
       "      <td>Diesel</td>\n",
       "      <td>Manual</td>\n",
       "      <td>First</td>\n",
       "      <td>23.59 kmpl</td>\n",
       "      <td>1364 CC</td>\n",
       "      <td>null bhp</td>\n",
       "      <td>5.0</td>\n",
       "    </tr>\n",
       "    <tr>\n",
       "      <th>4</th>\n",
       "      <td>Hyundai</td>\n",
       "      <td>i20</td>\n",
       "      <td>Magna</td>\n",
       "      <td>Hyundai_i20_Magna</td>\n",
       "      <td>Mumbai</td>\n",
       "      <td>2014</td>\n",
       "      <td>29000</td>\n",
       "      <td>Petrol</td>\n",
       "      <td>Manual</td>\n",
       "      <td>First</td>\n",
       "      <td>18.5 kmpl</td>\n",
       "      <td>1197 CC</td>\n",
       "      <td>82.85 bhp</td>\n",
       "      <td>5.0</td>\n",
       "    </tr>\n",
       "    <tr>\n",
       "      <th>...</th>\n",
       "      <td>...</td>\n",
       "      <td>...</td>\n",
       "      <td>...</td>\n",
       "      <td>...</td>\n",
       "      <td>...</td>\n",
       "      <td>...</td>\n",
       "      <td>...</td>\n",
       "      <td>...</td>\n",
       "      <td>...</td>\n",
       "      <td>...</td>\n",
       "      <td>...</td>\n",
       "      <td>...</td>\n",
       "      <td>...</td>\n",
       "      <td>...</td>\n",
       "    </tr>\n",
       "    <tr>\n",
       "      <th>1229</th>\n",
       "      <td>Volkswagen</td>\n",
       "      <td>Vento</td>\n",
       "      <td>Diesel_ Trendline</td>\n",
       "      <td>Volkswagen_Vento_Diesel_Trendline</td>\n",
       "      <td>Hyderabad</td>\n",
       "      <td>2011</td>\n",
       "      <td>89411</td>\n",
       "      <td>Diesel</td>\n",
       "      <td>Manual</td>\n",
       "      <td>First</td>\n",
       "      <td>20.54 kmpl</td>\n",
       "      <td>1598 CC</td>\n",
       "      <td>103.6 bhp</td>\n",
       "      <td>5.0</td>\n",
       "    </tr>\n",
       "    <tr>\n",
       "      <th>1230</th>\n",
       "      <td>Volkswagen</td>\n",
       "      <td>Polo</td>\n",
       "      <td>GT_ TSI</td>\n",
       "      <td>Volkswagen_Polo_GT_TSI</td>\n",
       "      <td>Mumbai</td>\n",
       "      <td>2015</td>\n",
       "      <td>59000</td>\n",
       "      <td>Petrol</td>\n",
       "      <td>Automatic</td>\n",
       "      <td>First</td>\n",
       "      <td>17.21 kmpl</td>\n",
       "      <td>1197 CC</td>\n",
       "      <td>103.6 bhp</td>\n",
       "      <td>5.0</td>\n",
       "    </tr>\n",
       "    <tr>\n",
       "      <th>1231</th>\n",
       "      <td>Nissan</td>\n",
       "      <td>Micra</td>\n",
       "      <td>Diesel_ XV</td>\n",
       "      <td>Nissan_Micra_Diesel_XV</td>\n",
       "      <td>Kolkata</td>\n",
       "      <td>2012</td>\n",
       "      <td>28000</td>\n",
       "      <td>Diesel</td>\n",
       "      <td>Manual</td>\n",
       "      <td>First</td>\n",
       "      <td>23.08 kmpl</td>\n",
       "      <td>1461 CC</td>\n",
       "      <td>63.1 bhp</td>\n",
       "      <td>5.0</td>\n",
       "    </tr>\n",
       "    <tr>\n",
       "      <th>1232</th>\n",
       "      <td>Volkswagen</td>\n",
       "      <td>Polo</td>\n",
       "      <td>GT_ TSI</td>\n",
       "      <td>Volkswagen_Polo_GT_TSI</td>\n",
       "      <td>Pune</td>\n",
       "      <td>2013</td>\n",
       "      <td>52262</td>\n",
       "      <td>Petrol</td>\n",
       "      <td>Automatic</td>\n",
       "      <td>Third</td>\n",
       "      <td>17.2 kmpl</td>\n",
       "      <td>1197 CC</td>\n",
       "      <td>103.6 bhp</td>\n",
       "      <td>5.0</td>\n",
       "    </tr>\n",
       "    <tr>\n",
       "      <th>1233</th>\n",
       "      <td>Mercedes-Benz</td>\n",
       "      <td>E-Class</td>\n",
       "      <td>2009-2013_ E_ 220_ CDI_ Avantgarde</td>\n",
       "      <td>Mercedes-Benz_E-Class_2009-2013_E_220_CDI_Avan...</td>\n",
       "      <td>Kochi</td>\n",
       "      <td>2014</td>\n",
       "      <td>72443</td>\n",
       "      <td>Diesel</td>\n",
       "      <td>Automatic</td>\n",
       "      <td>First</td>\n",
       "      <td>10.0 kmpl</td>\n",
       "      <td>2148 CC</td>\n",
       "      <td>170 bhp</td>\n",
       "      <td>5.0</td>\n",
       "    </tr>\n",
       "  </tbody>\n",
       "</table>\n",
       "<p>1234 rows × 14 columns</p>\n",
       "</div>"
      ],
      "text/plain": [
       "         Brand_test Car_Name_test                        Version_test  \\\n",
       "0            Maruti          Alto                       K10_ LXI_ CNG   \n",
       "1            Maruti          Alto                 800_ 2016-2019_ LXI   \n",
       "2            Toyota        Innova     Crysta_ Touring_ Sport_ 2.4_ MT   \n",
       "3            Toyota         Etios                            Liva_ GD   \n",
       "4           Hyundai           i20                               Magna   \n",
       "...             ...           ...                                 ...   \n",
       "1229     Volkswagen         Vento                   Diesel_ Trendline   \n",
       "1230     Volkswagen          Polo                             GT_ TSI   \n",
       "1231         Nissan         Micra                          Diesel_ XV   \n",
       "1232     Volkswagen          Polo                             GT_ TSI   \n",
       "1233  Mercedes-Benz       E-Class  2009-2013_ E_ 220_ CDI_ Avantgarde   \n",
       "\n",
       "                                                   Name    Location  Year  \\\n",
       "0                               Maruti_Alto_K10_LXI_CNG       Delhi  2014   \n",
       "1                         Maruti_Alto_800_2016-2019_LXI  Coimbatore  2013   \n",
       "2             Toyota_Innova_Crysta_Touring_Sport_2.4_MT      Mumbai  2017   \n",
       "3                                  Toyota_Etios_Liva_GD   Hyderabad  2012   \n",
       "4                                     Hyundai_i20_Magna      Mumbai  2014   \n",
       "...                                                 ...         ...   ...   \n",
       "1229                  Volkswagen_Vento_Diesel_Trendline   Hyderabad  2011   \n",
       "1230                             Volkswagen_Polo_GT_TSI      Mumbai  2015   \n",
       "1231                             Nissan_Micra_Diesel_XV     Kolkata  2012   \n",
       "1232                             Volkswagen_Polo_GT_TSI        Pune  2013   \n",
       "1233  Mercedes-Benz_E-Class_2009-2013_E_220_CDI_Avan...       Kochi  2014   \n",
       "\n",
       "      Kilometers_Driven Fuel_Type Transmission Owner_Type      Mileage  \\\n",
       "0                 40929       CNG       Manual      First  32.26 km/kg   \n",
       "1                 54493    Petrol       Manual     Second    24.7 kmpl   \n",
       "2                 34000    Diesel       Manual      First   13.68 kmpl   \n",
       "3                139000    Diesel       Manual      First   23.59 kmpl   \n",
       "4                 29000    Petrol       Manual      First    18.5 kmpl   \n",
       "...                 ...       ...          ...        ...          ...   \n",
       "1229              89411    Diesel       Manual      First   20.54 kmpl   \n",
       "1230              59000    Petrol    Automatic      First   17.21 kmpl   \n",
       "1231              28000    Diesel       Manual      First   23.08 kmpl   \n",
       "1232              52262    Petrol    Automatic      Third    17.2 kmpl   \n",
       "1233              72443    Diesel    Automatic      First    10.0 kmpl   \n",
       "\n",
       "       Engine      Power  Seats  \n",
       "0      998 CC   58.2 bhp    4.0  \n",
       "1      796 CC   47.3 bhp    5.0  \n",
       "2     2393 CC  147.8 bhp    7.0  \n",
       "3     1364 CC   null bhp    5.0  \n",
       "4     1197 CC  82.85 bhp    5.0  \n",
       "...       ...        ...    ...  \n",
       "1229  1598 CC  103.6 bhp    5.0  \n",
       "1230  1197 CC  103.6 bhp    5.0  \n",
       "1231  1461 CC   63.1 bhp    5.0  \n",
       "1232  1197 CC  103.6 bhp    5.0  \n",
       "1233  2148 CC    170 bhp    5.0  \n",
       "\n",
       "[1234 rows x 14 columns]"
      ]
     },
     "execution_count": 8,
     "metadata": {},
     "output_type": "execute_result"
    }
   ],
   "source": [
    "df_test"
   ]
  },
  {
   "cell_type": "code",
   "execution_count": 9,
   "metadata": {},
   "outputs": [],
   "source": [
    "df.drop('Name',axis=1,inplace=True)\n",
    "df_test.drop('Name',axis=1,inplace=True)"
   ]
  },
  {
   "cell_type": "code",
   "execution_count": 10,
   "metadata": {},
   "outputs": [],
   "source": [
    "df['Mileage']=df['Mileage'].str.replace('km/kg','')\n",
    "df['Mileage']=df['Mileage'].str.replace('kmpl','')\n",
    "df['Mileage']=df['Mileage'].str.strip()\n",
    "df['Engine']=df['Engine'].str.replace('CC','')\n",
    "df['Engine']=df['Engine'].str.strip()\n",
    "df['Power']=df['Power'].str.replace('bhp','')\n",
    "df['Power']=df['Power'].str.strip()\n",
    "\n",
    "df_test['Mileage']=df_test['Mileage'].str.replace('km/kg','')\n",
    "df_test['Mileage']=df_test['Mileage'].str.replace('kmpl','')\n",
    "df_test['Mileage']=df_test['Mileage'].str.strip()\n",
    "df_test['Engine']=df_test['Engine'].str.replace('CC','')\n",
    "df_test['Engine']=df_test['Engine'].str.strip()\n",
    "df_test['Power']=df_test['Power'].str.replace('bhp','')\n",
    "df_test['Power']=df_test['Power'].str.strip()"
   ]
  },
  {
   "cell_type": "code",
   "execution_count": 11,
   "metadata": {},
   "outputs": [
    {
     "data": {
      "text/plain": [
       "Brand                 0\n",
       "Car_Name              0\n",
       "Version               0\n",
       "Location              0\n",
       "Year                  0\n",
       "Kilometers_Driven     0\n",
       "Fuel_Type             0\n",
       "Transmission          0\n",
       "Owner_Type            0\n",
       "Mileage               2\n",
       "Engine               36\n",
       "Power                36\n",
       "Seats                42\n",
       "Price                 0\n",
       "dtype: int64"
      ]
     },
     "execution_count": 11,
     "metadata": {},
     "output_type": "execute_result"
    }
   ],
   "source": [
    "df.isnull().sum()"
   ]
  },
  {
   "cell_type": "code",
   "execution_count": 12,
   "metadata": {},
   "outputs": [
    {
     "data": {
      "text/plain": [
       "Brand_test            0\n",
       "Car_Name_test         0\n",
       "Version_test          0\n",
       "Location              0\n",
       "Year                  0\n",
       "Kilometers_Driven     0\n",
       "Fuel_Type             0\n",
       "Transmission          0\n",
       "Owner_Type            0\n",
       "Mileage               0\n",
       "Engine               10\n",
       "Power                10\n",
       "Seats                11\n",
       "dtype: int64"
      ]
     },
     "execution_count": 12,
     "metadata": {},
     "output_type": "execute_result"
    }
   ],
   "source": [
    "df_test.isnull().sum()"
   ]
  },
  {
   "cell_type": "code",
   "execution_count": 13,
   "metadata": {},
   "outputs": [],
   "source": [
    "df.dropna(subset=['Mileage','Engine','Power','Seats'],how='any',inplace=True)"
   ]
  },
  {
   "cell_type": "code",
   "execution_count": 14,
   "metadata": {},
   "outputs": [],
   "source": [
    "df_test.dropna(subset=['Engine','Power','Seats'],how='any',inplace=True)"
   ]
  },
  {
   "cell_type": "code",
   "execution_count": 15,
   "metadata": {},
   "outputs": [],
   "source": [
    "#there were some values in power with null\n",
    "empty=[]\n",
    "for x in df.Power.index:\n",
    "    if df.loc[x,'Power']=='null':\n",
    "        empty.append(x)"
   ]
  },
  {
   "cell_type": "code",
   "execution_count": 16,
   "metadata": {
    "scrolled": true
   },
   "outputs": [],
   "source": [
    "#there were some values in power with null\n",
    "empty_test=[]\n",
    "for x in df_test.Power.index:\n",
    "    if df_test.loc[x,'Power']=='null':\n",
    "        empty_test.append(x)"
   ]
  },
  {
   "cell_type": "code",
   "execution_count": 17,
   "metadata": {},
   "outputs": [],
   "source": [
    "df.drop(empty,inplace=True)"
   ]
  },
  {
   "cell_type": "code",
   "execution_count": 18,
   "metadata": {},
   "outputs": [],
   "source": [
    "df_test.drop(empty_test,axis=0,inplace=True)"
   ]
  },
  {
   "cell_type": "code",
   "execution_count": 19,
   "metadata": {},
   "outputs": [],
   "source": [
    "empty=[]\n",
    "for x in df.Mileage.index:\n",
    "    if df.loc[x,'Mileage']==0:\n",
    "        empty.append(x)"
   ]
  },
  {
   "cell_type": "code",
   "execution_count": 20,
   "metadata": {},
   "outputs": [],
   "source": [
    "empty_test=[]\n",
    "for z in df_test.Mileage.index:\n",
    "    if df_test.loc[z,'Mileage']==0:\n",
    "        empty_test.append(z)"
   ]
  },
  {
   "cell_type": "code",
   "execution_count": 21,
   "metadata": {
    "scrolled": true
   },
   "outputs": [],
   "source": [
    "df.drop(empty,inplace=True)"
   ]
  },
  {
   "cell_type": "code",
   "execution_count": 22,
   "metadata": {},
   "outputs": [],
   "source": [
    "df_test.drop(empty_test,inplace=True)"
   ]
  },
  {
   "cell_type": "code",
   "execution_count": 23,
   "metadata": {
    "scrolled": true
   },
   "outputs": [],
   "source": [
    "df.Mileage=df.Mileage.astype(float)\n",
    "df.Engine=df.Engine.astype(float)\n",
    "df.Power=df.Power.astype(float)\n",
    "\n",
    "df_test.Mileage=df_test.Mileage.astype(float)\n",
    "df_test.Engine=df_test.Engine.astype(float)\n",
    "df_test.Power=df_test.Power.astype(float)"
   ]
  },
  {
   "cell_type": "code",
   "execution_count": 24,
   "metadata": {},
   "outputs": [
    {
     "data": {
      "text/plain": [
       "Brand                 object\n",
       "Car_Name              object\n",
       "Version               object\n",
       "Location              object\n",
       "Year                   int64\n",
       "Kilometers_Driven      int64\n",
       "Fuel_Type             object\n",
       "Transmission          object\n",
       "Owner_Type            object\n",
       "Mileage              float64\n",
       "Engine               float64\n",
       "Power                float64\n",
       "Seats                float64\n",
       "Price                float64\n",
       "dtype: object"
      ]
     },
     "execution_count": 24,
     "metadata": {},
     "output_type": "execute_result"
    }
   ],
   "source": [
    "df.dtypes"
   ]
  },
  {
   "cell_type": "code",
   "execution_count": 25,
   "metadata": {},
   "outputs": [
    {
     "data": {
      "text/plain": [
       "Brand                False\n",
       "Car_Name             False\n",
       "Version              False\n",
       "Location             False\n",
       "Year                 False\n",
       "Kilometers_Driven    False\n",
       "Fuel_Type            False\n",
       "Transmission         False\n",
       "Owner_Type           False\n",
       "Mileage              False\n",
       "Engine               False\n",
       "Power                False\n",
       "Seats                False\n",
       "Price                False\n",
       "dtype: bool"
      ]
     },
     "execution_count": 25,
     "metadata": {},
     "output_type": "execute_result"
    }
   ],
   "source": [
    "df.isnull().any()"
   ]
  },
  {
   "cell_type": "code",
   "execution_count": 26,
   "metadata": {},
   "outputs": [
    {
     "data": {
      "text/plain": [
       "Brand_test           False\n",
       "Car_Name_test        False\n",
       "Version_test         False\n",
       "Location             False\n",
       "Year                 False\n",
       "Kilometers_Driven    False\n",
       "Fuel_Type            False\n",
       "Transmission         False\n",
       "Owner_Type           False\n",
       "Mileage              False\n",
       "Engine               False\n",
       "Power                False\n",
       "Seats                False\n",
       "dtype: bool"
      ]
     },
     "execution_count": 26,
     "metadata": {},
     "output_type": "execute_result"
    }
   ],
   "source": [
    "df_test.isnull().any()"
   ]
  },
  {
   "cell_type": "code",
   "execution_count": 27,
   "metadata": {},
   "outputs": [
    {
     "data": {
      "text/plain": [
       "(5872, 14)"
      ]
     },
     "execution_count": 27,
     "metadata": {},
     "output_type": "execute_result"
    }
   ],
   "source": [
    "df.shape"
   ]
  },
  {
   "cell_type": "code",
   "execution_count": 28,
   "metadata": {},
   "outputs": [
    {
     "name": "stdout",
     "output_type": "stream",
     "text": [
      "0\n"
     ]
    },
    {
     "data": {
      "text/html": [
       "<div>\n",
       "<style scoped>\n",
       "    .dataframe tbody tr th:only-of-type {\n",
       "        vertical-align: middle;\n",
       "    }\n",
       "\n",
       "    .dataframe tbody tr th {\n",
       "        vertical-align: top;\n",
       "    }\n",
       "\n",
       "    .dataframe thead th {\n",
       "        text-align: right;\n",
       "    }\n",
       "</style>\n",
       "<table border=\"1\" class=\"dataframe\">\n",
       "  <thead>\n",
       "    <tr style=\"text-align: right;\">\n",
       "      <th></th>\n",
       "      <th>Brand</th>\n",
       "      <th>Car_Name</th>\n",
       "      <th>Version</th>\n",
       "      <th>Location</th>\n",
       "      <th>Year</th>\n",
       "      <th>Kilometers_Driven</th>\n",
       "      <th>Fuel_Type</th>\n",
       "      <th>Transmission</th>\n",
       "      <th>Owner_Type</th>\n",
       "      <th>Mileage</th>\n",
       "      <th>Engine</th>\n",
       "      <th>Power</th>\n",
       "      <th>Seats</th>\n",
       "      <th>Price</th>\n",
       "    </tr>\n",
       "  </thead>\n",
       "  <tbody>\n",
       "  </tbody>\n",
       "</table>\n",
       "</div>"
      ],
      "text/plain": [
       "Empty DataFrame\n",
       "Columns: [Brand, Car_Name, Version, Location, Year, Kilometers_Driven, Fuel_Type, Transmission, Owner_Type, Mileage, Engine, Power, Seats, Price]\n",
       "Index: []"
      ]
     },
     "execution_count": 28,
     "metadata": {},
     "output_type": "execute_result"
    }
   ],
   "source": [
    "print(df.duplicated().sum())\n",
    "df.loc[df.duplicated(keep=False),:]"
   ]
  },
  {
   "cell_type": "code",
   "execution_count": 29,
   "metadata": {},
   "outputs": [
    {
     "name": "stdout",
     "output_type": "stream",
     "text": [
      "1\n"
     ]
    },
    {
     "data": {
      "text/html": [
       "<div>\n",
       "<style scoped>\n",
       "    .dataframe tbody tr th:only-of-type {\n",
       "        vertical-align: middle;\n",
       "    }\n",
       "\n",
       "    .dataframe tbody tr th {\n",
       "        vertical-align: top;\n",
       "    }\n",
       "\n",
       "    .dataframe thead th {\n",
       "        text-align: right;\n",
       "    }\n",
       "</style>\n",
       "<table border=\"1\" class=\"dataframe\">\n",
       "  <thead>\n",
       "    <tr style=\"text-align: right;\">\n",
       "      <th></th>\n",
       "      <th>Brand_test</th>\n",
       "      <th>Car_Name_test</th>\n",
       "      <th>Version_test</th>\n",
       "      <th>Location</th>\n",
       "      <th>Year</th>\n",
       "      <th>Kilometers_Driven</th>\n",
       "      <th>Fuel_Type</th>\n",
       "      <th>Transmission</th>\n",
       "      <th>Owner_Type</th>\n",
       "      <th>Mileage</th>\n",
       "      <th>Engine</th>\n",
       "      <th>Power</th>\n",
       "      <th>Seats</th>\n",
       "    </tr>\n",
       "  </thead>\n",
       "  <tbody>\n",
       "    <tr>\n",
       "      <th>479</th>\n",
       "      <td>Honda</td>\n",
       "      <td>City</td>\n",
       "      <td>1.5_ E_ MT</td>\n",
       "      <td>Mumbai</td>\n",
       "      <td>2010</td>\n",
       "      <td>52000</td>\n",
       "      <td>Petrol</td>\n",
       "      <td>Manual</td>\n",
       "      <td>First</td>\n",
       "      <td>17.0</td>\n",
       "      <td>1497.0</td>\n",
       "      <td>118.0</td>\n",
       "      <td>5.0</td>\n",
       "    </tr>\n",
       "    <tr>\n",
       "      <th>563</th>\n",
       "      <td>Honda</td>\n",
       "      <td>City</td>\n",
       "      <td>1.5_ E_ MT</td>\n",
       "      <td>Mumbai</td>\n",
       "      <td>2010</td>\n",
       "      <td>52000</td>\n",
       "      <td>Petrol</td>\n",
       "      <td>Manual</td>\n",
       "      <td>First</td>\n",
       "      <td>17.0</td>\n",
       "      <td>1497.0</td>\n",
       "      <td>118.0</td>\n",
       "      <td>5.0</td>\n",
       "    </tr>\n",
       "  </tbody>\n",
       "</table>\n",
       "</div>"
      ],
      "text/plain": [
       "    Brand_test Car_Name_test Version_test Location  Year  Kilometers_Driven  \\\n",
       "479      Honda          City   1.5_ E_ MT   Mumbai  2010              52000   \n",
       "563      Honda          City   1.5_ E_ MT   Mumbai  2010              52000   \n",
       "\n",
       "    Fuel_Type Transmission Owner_Type  Mileage  Engine  Power  Seats  \n",
       "479    Petrol       Manual      First     17.0  1497.0  118.0    5.0  \n",
       "563    Petrol       Manual      First     17.0  1497.0  118.0    5.0  "
      ]
     },
     "execution_count": 29,
     "metadata": {},
     "output_type": "execute_result"
    }
   ],
   "source": [
    "print(df_test.duplicated().sum())\n",
    "df_test.loc[df_test.duplicated(keep=False),:]"
   ]
  },
  {
   "cell_type": "code",
   "execution_count": 30,
   "metadata": {},
   "outputs": [],
   "source": [
    "df_test.drop_duplicates(keep='first',inplace=True)"
   ]
  },
  {
   "cell_type": "code",
   "execution_count": 31,
   "metadata": {},
   "outputs": [],
   "source": [
    "df.Brand.value_counts()\n",
    "df['Brand']=df['Brand'].str.replace('ISUZU','Isuzu')"
   ]
  },
  {
   "cell_type": "code",
   "execution_count": 32,
   "metadata": {
    "scrolled": true
   },
   "outputs": [],
   "source": [
    "loc_dummies=pd.get_dummies(df.Location,prefix='Location',drop_first=True)\n",
    "loc_dummies2=pd.get_dummies(df_test.Location,prefix='Location',drop_first=True)"
   ]
  },
  {
   "cell_type": "code",
   "execution_count": 33,
   "metadata": {
    "scrolled": true
   },
   "outputs": [],
   "source": [
    "fuel_dummies=pd.get_dummies(df.Fuel_Type,prefix='Fueltype',drop_first=True)\n",
    "fuel_dummies2=pd.get_dummies(df_test.Fuel_Type,prefix='Fueltype',drop_first=True)"
   ]
  },
  {
   "cell_type": "code",
   "execution_count": 34,
   "metadata": {
    "scrolled": true
   },
   "outputs": [],
   "source": [
    "transmission_dummies=pd.get_dummies(df.Transmission,prefix='Transmission',drop_first=True)\n",
    "transmission_dummies2=pd.get_dummies(df_test.Transmission,prefix='Transmission',drop_first=True)"
   ]
  },
  {
   "cell_type": "code",
   "execution_count": 35,
   "metadata": {
    "scrolled": true
   },
   "outputs": [],
   "source": [
    "owner_dummies=pd.get_dummies(df.Owner_Type,prefix='Owner',drop_first=True)\n",
    "owner_dummies2=pd.get_dummies(df_test.Owner_Type,prefix='Owner',drop_first=True)"
   ]
  },
  {
   "cell_type": "code",
   "execution_count": 36,
   "metadata": {
    "scrolled": true
   },
   "outputs": [],
   "source": [
    "seats_dummies=pd.get_dummies(df.Seats,prefix='Seats',drop_first=True)\n",
    "seats_dummies2=pd.get_dummies(df_test.Seats,prefix='Seats',drop_first=True)"
   ]
  },
  {
   "cell_type": "code",
   "execution_count": 37,
   "metadata": {
    "scrolled": true
   },
   "outputs": [],
   "source": [
    "#the seats 9.0 column is not present in test so had to add a column of zeros to test file\n",
    "seat9=[]\n",
    "for x in range(0,(len(seats_dummies2))):\n",
    "    seat9.append(0)\n",
    "seats_dummies2.insert(6,'Seats_9.0',seat9)"
   ]
  },
  {
   "cell_type": "code",
   "execution_count": 38,
   "metadata": {},
   "outputs": [],
   "source": [
    "col=['Seats_4.0','Seats_5.0','Seats_6.0','Seats_7.0','Seats_8.0','Seats_9.0','Seats_10.0']\n",
    "seats_dummies2=seats_dummies2[col]"
   ]
  },
  {
   "cell_type": "code",
   "execution_count": 39,
   "metadata": {},
   "outputs": [
    {
     "data": {
      "text/plain": [
       "array([2010, 2015, 2011, 2012, 2013, 2016, 2018, 2014, 2017, 2007, 2009,\n",
       "       2008, 2019, 2006, 2004, 2002, 2000, 2005, 2003, 1999, 1998, 2001],\n",
       "      dtype=int64)"
      ]
     },
     "execution_count": 39,
     "metadata": {},
     "output_type": "execute_result"
    }
   ],
   "source": [
    "df.Year.unique()"
   ]
  },
  {
   "cell_type": "code",
   "execution_count": 40,
   "metadata": {},
   "outputs": [],
   "source": [
    "df=pd.concat([df,loc_dummies],axis=1)\n",
    "df=pd.concat([df,fuel_dummies],axis=1)\n",
    "df=pd.concat([df,transmission_dummies],axis=1)\n",
    "df=pd.concat([df,owner_dummies],axis=1)\n",
    "df=pd.concat([df,seats_dummies],axis=1)\n",
    "\n",
    "df_test=pd.concat([df_test,loc_dummies2],axis=1)\n",
    "df_test=pd.concat([df_test,fuel_dummies2],axis=1)\n",
    "df_test=pd.concat([df_test,transmission_dummies2],axis=1)\n",
    "df_test=pd.concat([df_test,owner_dummies2],axis=1)\n",
    "df_test=pd.concat([df_test,seats_dummies2],axis=1)"
   ]
  },
  {
   "cell_type": "code",
   "execution_count": 41,
   "metadata": {},
   "outputs": [],
   "source": [
    "from sklearn import preprocessing\n",
    "le = preprocessing.LabelEncoder()\n",
    "cols=['Brand','Car_Name','Version','Year']\n",
    "for column_name in cols:\n",
    "    df[column_name] = le.fit_transform(df[column_name])\n",
    "    \n",
    "\n",
    "cols2=['Brand_test','Car_Name_test','Version_test','Year']\n",
    "for column_name in cols2:\n",
    "    df_test[column_name] = le.fit_transform(df_test[column_name])"
   ]
  },
  {
   "cell_type": "code",
   "execution_count": 42,
   "metadata": {},
   "outputs": [],
   "source": [
    "df.drop('Location',axis=1,inplace=True)\n",
    "df.drop('Fuel_Type',axis=1,inplace=True)\n",
    "df.drop('Transmission',axis=1,inplace=True)\n",
    "df.drop('Owner_Type',axis=1,inplace=True)\n",
    "df.drop('Seats',axis=1,inplace=True)\n",
    "\n",
    "df_test.drop('Location',axis=1,inplace=True)\n",
    "df_test.drop('Fuel_Type',axis=1,inplace=True)\n",
    "df_test.drop('Transmission',axis=1,inplace=True)\n",
    "df_test.drop('Owner_Type',axis=1,inplace=True)\n",
    "df_test.drop('Seats',axis=1,inplace=True)"
   ]
  },
  {
   "cell_type": "code",
   "execution_count": 43,
   "metadata": {},
   "outputs": [
    {
     "data": {
      "text/html": [
       "<div>\n",
       "<style scoped>\n",
       "    .dataframe tbody tr th:only-of-type {\n",
       "        vertical-align: middle;\n",
       "    }\n",
       "\n",
       "    .dataframe tbody tr th {\n",
       "        vertical-align: top;\n",
       "    }\n",
       "\n",
       "    .dataframe thead th {\n",
       "        text-align: right;\n",
       "    }\n",
       "</style>\n",
       "<table border=\"1\" class=\"dataframe\">\n",
       "  <thead>\n",
       "    <tr style=\"text-align: right;\">\n",
       "      <th></th>\n",
       "      <th>Brand</th>\n",
       "      <th>Car_Name</th>\n",
       "      <th>Version</th>\n",
       "      <th>Year</th>\n",
       "      <th>Kilometers_Driven</th>\n",
       "      <th>Mileage</th>\n",
       "      <th>Engine</th>\n",
       "      <th>Power</th>\n",
       "      <th>Price</th>\n",
       "      <th>Location_Bangalore</th>\n",
       "      <th>...</th>\n",
       "      <th>Owner_Fourth &amp; Above</th>\n",
       "      <th>Owner_Second</th>\n",
       "      <th>Owner_Third</th>\n",
       "      <th>Seats_4.0</th>\n",
       "      <th>Seats_5.0</th>\n",
       "      <th>Seats_6.0</th>\n",
       "      <th>Seats_7.0</th>\n",
       "      <th>Seats_8.0</th>\n",
       "      <th>Seats_9.0</th>\n",
       "      <th>Seats_10.0</th>\n",
       "    </tr>\n",
       "  </thead>\n",
       "  <tbody>\n",
       "    <tr>\n",
       "      <th>0</th>\n",
       "      <td>17</td>\n",
       "      <td>180</td>\n",
       "      <td>1191</td>\n",
       "      <td>12</td>\n",
       "      <td>72000</td>\n",
       "      <td>26.60</td>\n",
       "      <td>998.0</td>\n",
       "      <td>58.16</td>\n",
       "      <td>1.75</td>\n",
       "      <td>0</td>\n",
       "      <td>...</td>\n",
       "      <td>0</td>\n",
       "      <td>0</td>\n",
       "      <td>0</td>\n",
       "      <td>0</td>\n",
       "      <td>1</td>\n",
       "      <td>0</td>\n",
       "      <td>0</td>\n",
       "      <td>0</td>\n",
       "      <td>0</td>\n",
       "      <td>0</td>\n",
       "    </tr>\n",
       "    <tr>\n",
       "      <th>1</th>\n",
       "      <td>10</td>\n",
       "      <td>51</td>\n",
       "      <td>213</td>\n",
       "      <td>17</td>\n",
       "      <td>41000</td>\n",
       "      <td>19.67</td>\n",
       "      <td>1582.0</td>\n",
       "      <td>126.20</td>\n",
       "      <td>12.50</td>\n",
       "      <td>0</td>\n",
       "      <td>...</td>\n",
       "      <td>0</td>\n",
       "      <td>0</td>\n",
       "      <td>0</td>\n",
       "      <td>0</td>\n",
       "      <td>1</td>\n",
       "      <td>0</td>\n",
       "      <td>0</td>\n",
       "      <td>0</td>\n",
       "      <td>0</td>\n",
       "      <td>0</td>\n",
       "    </tr>\n",
       "    <tr>\n",
       "      <th>2</th>\n",
       "      <td>9</td>\n",
       "      <td>94</td>\n",
       "      <td>1410</td>\n",
       "      <td>13</td>\n",
       "      <td>46000</td>\n",
       "      <td>18.20</td>\n",
       "      <td>1199.0</td>\n",
       "      <td>88.70</td>\n",
       "      <td>4.50</td>\n",
       "      <td>0</td>\n",
       "      <td>...</td>\n",
       "      <td>0</td>\n",
       "      <td>0</td>\n",
       "      <td>0</td>\n",
       "      <td>0</td>\n",
       "      <td>1</td>\n",
       "      <td>0</td>\n",
       "      <td>0</td>\n",
       "      <td>0</td>\n",
       "      <td>0</td>\n",
       "      <td>0</td>\n",
       "    </tr>\n",
       "    <tr>\n",
       "      <th>3</th>\n",
       "      <td>17</td>\n",
       "      <td>66</td>\n",
       "      <td>1426</td>\n",
       "      <td>14</td>\n",
       "      <td>87000</td>\n",
       "      <td>20.77</td>\n",
       "      <td>1248.0</td>\n",
       "      <td>88.76</td>\n",
       "      <td>6.00</td>\n",
       "      <td>0</td>\n",
       "      <td>...</td>\n",
       "      <td>0</td>\n",
       "      <td>0</td>\n",
       "      <td>0</td>\n",
       "      <td>0</td>\n",
       "      <td>0</td>\n",
       "      <td>0</td>\n",
       "      <td>1</td>\n",
       "      <td>0</td>\n",
       "      <td>0</td>\n",
       "      <td>0</td>\n",
       "    </tr>\n",
       "    <tr>\n",
       "      <th>4</th>\n",
       "      <td>1</td>\n",
       "      <td>9</td>\n",
       "      <td>1126</td>\n",
       "      <td>15</td>\n",
       "      <td>40670</td>\n",
       "      <td>15.20</td>\n",
       "      <td>1968.0</td>\n",
       "      <td>140.80</td>\n",
       "      <td>17.74</td>\n",
       "      <td>0</td>\n",
       "      <td>...</td>\n",
       "      <td>0</td>\n",
       "      <td>1</td>\n",
       "      <td>0</td>\n",
       "      <td>0</td>\n",
       "      <td>1</td>\n",
       "      <td>0</td>\n",
       "      <td>0</td>\n",
       "      <td>0</td>\n",
       "      <td>0</td>\n",
       "      <td>0</td>\n",
       "    </tr>\n",
       "  </tbody>\n",
       "</table>\n",
       "<p>5 rows × 33 columns</p>\n",
       "</div>"
      ],
      "text/plain": [
       "   Brand  Car_Name  Version  Year  Kilometers_Driven  Mileage  Engine   Power  \\\n",
       "0     17       180     1191    12              72000    26.60   998.0   58.16   \n",
       "1     10        51      213    17              41000    19.67  1582.0  126.20   \n",
       "2      9        94     1410    13              46000    18.20  1199.0   88.70   \n",
       "3     17        66     1426    14              87000    20.77  1248.0   88.76   \n",
       "4      1         9     1126    15              40670    15.20  1968.0  140.80   \n",
       "\n",
       "   Price  Location_Bangalore  ...  Owner_Fourth & Above  Owner_Second  \\\n",
       "0   1.75                   0  ...                     0             0   \n",
       "1  12.50                   0  ...                     0             0   \n",
       "2   4.50                   0  ...                     0             0   \n",
       "3   6.00                   0  ...                     0             0   \n",
       "4  17.74                   0  ...                     0             1   \n",
       "\n",
       "   Owner_Third  Seats_4.0  Seats_5.0  Seats_6.0  Seats_7.0  Seats_8.0  \\\n",
       "0            0          0          1          0          0          0   \n",
       "1            0          0          1          0          0          0   \n",
       "2            0          0          1          0          0          0   \n",
       "3            0          0          0          0          1          0   \n",
       "4            0          0          1          0          0          0   \n",
       "\n",
       "   Seats_9.0  Seats_10.0  \n",
       "0          0           0  \n",
       "1          0           0  \n",
       "2          0           0  \n",
       "3          0           0  \n",
       "4          0           0  \n",
       "\n",
       "[5 rows x 33 columns]"
      ]
     },
     "execution_count": 43,
     "metadata": {},
     "output_type": "execute_result"
    }
   ],
   "source": [
    "df.head()"
   ]
  },
  {
   "cell_type": "code",
   "execution_count": 44,
   "metadata": {},
   "outputs": [
    {
     "data": {
      "text/html": [
       "<div>\n",
       "<style scoped>\n",
       "    .dataframe tbody tr th:only-of-type {\n",
       "        vertical-align: middle;\n",
       "    }\n",
       "\n",
       "    .dataframe tbody tr th {\n",
       "        vertical-align: top;\n",
       "    }\n",
       "\n",
       "    .dataframe thead th {\n",
       "        text-align: right;\n",
       "    }\n",
       "</style>\n",
       "<table border=\"1\" class=\"dataframe\">\n",
       "  <thead>\n",
       "    <tr style=\"text-align: right;\">\n",
       "      <th></th>\n",
       "      <th>Brand_test</th>\n",
       "      <th>Car_Name_test</th>\n",
       "      <th>Version_test</th>\n",
       "      <th>Year</th>\n",
       "      <th>Kilometers_Driven</th>\n",
       "      <th>Mileage</th>\n",
       "      <th>Engine</th>\n",
       "      <th>Power</th>\n",
       "      <th>Location_Bangalore</th>\n",
       "      <th>Location_Chennai</th>\n",
       "      <th>...</th>\n",
       "      <th>Owner_Fourth &amp; Above</th>\n",
       "      <th>Owner_Second</th>\n",
       "      <th>Owner_Third</th>\n",
       "      <th>Seats_4.0</th>\n",
       "      <th>Seats_5.0</th>\n",
       "      <th>Seats_6.0</th>\n",
       "      <th>Seats_7.0</th>\n",
       "      <th>Seats_8.0</th>\n",
       "      <th>Seats_9.0</th>\n",
       "      <th>Seats_10.0</th>\n",
       "    </tr>\n",
       "  </thead>\n",
       "  <tbody>\n",
       "    <tr>\n",
       "      <th>0</th>\n",
       "      <td>15</td>\n",
       "      <td>16</td>\n",
       "      <td>447</td>\n",
       "      <td>13</td>\n",
       "      <td>40929</td>\n",
       "      <td>32.26</td>\n",
       "      <td>998.0</td>\n",
       "      <td>58.20</td>\n",
       "      <td>0</td>\n",
       "      <td>0</td>\n",
       "      <td>...</td>\n",
       "      <td>0</td>\n",
       "      <td>0</td>\n",
       "      <td>0</td>\n",
       "      <td>1</td>\n",
       "      <td>0</td>\n",
       "      <td>0</td>\n",
       "      <td>0</td>\n",
       "      <td>0</td>\n",
       "      <td>0</td>\n",
       "      <td>0</td>\n",
       "    </tr>\n",
       "    <tr>\n",
       "      <th>1</th>\n",
       "      <td>15</td>\n",
       "      <td>16</td>\n",
       "      <td>252</td>\n",
       "      <td>12</td>\n",
       "      <td>54493</td>\n",
       "      <td>24.70</td>\n",
       "      <td>796.0</td>\n",
       "      <td>47.30</td>\n",
       "      <td>0</td>\n",
       "      <td>0</td>\n",
       "      <td>...</td>\n",
       "      <td>0</td>\n",
       "      <td>1</td>\n",
       "      <td>0</td>\n",
       "      <td>0</td>\n",
       "      <td>1</td>\n",
       "      <td>0</td>\n",
       "      <td>0</td>\n",
       "      <td>0</td>\n",
       "      <td>0</td>\n",
       "      <td>0</td>\n",
       "    </tr>\n",
       "    <tr>\n",
       "      <th>2</th>\n",
       "      <td>25</td>\n",
       "      <td>78</td>\n",
       "      <td>351</td>\n",
       "      <td>16</td>\n",
       "      <td>34000</td>\n",
       "      <td>13.68</td>\n",
       "      <td>2393.0</td>\n",
       "      <td>147.80</td>\n",
       "      <td>0</td>\n",
       "      <td>0</td>\n",
       "      <td>...</td>\n",
       "      <td>0</td>\n",
       "      <td>0</td>\n",
       "      <td>0</td>\n",
       "      <td>0</td>\n",
       "      <td>0</td>\n",
       "      <td>0</td>\n",
       "      <td>1</td>\n",
       "      <td>0</td>\n",
       "      <td>0</td>\n",
       "      <td>0</td>\n",
       "    </tr>\n",
       "    <tr>\n",
       "      <th>4</th>\n",
       "      <td>8</td>\n",
       "      <td>158</td>\n",
       "      <td>476</td>\n",
       "      <td>13</td>\n",
       "      <td>29000</td>\n",
       "      <td>18.50</td>\n",
       "      <td>1197.0</td>\n",
       "      <td>82.85</td>\n",
       "      <td>0</td>\n",
       "      <td>0</td>\n",
       "      <td>...</td>\n",
       "      <td>0</td>\n",
       "      <td>0</td>\n",
       "      <td>0</td>\n",
       "      <td>0</td>\n",
       "      <td>1</td>\n",
       "      <td>0</td>\n",
       "      <td>0</td>\n",
       "      <td>0</td>\n",
       "      <td>0</td>\n",
       "      <td>0</td>\n",
       "    </tr>\n",
       "    <tr>\n",
       "      <th>5</th>\n",
       "      <td>14</td>\n",
       "      <td>151</td>\n",
       "      <td>636</td>\n",
       "      <td>15</td>\n",
       "      <td>85609</td>\n",
       "      <td>16.00</td>\n",
       "      <td>2179.0</td>\n",
       "      <td>140.00</td>\n",
       "      <td>0</td>\n",
       "      <td>0</td>\n",
       "      <td>...</td>\n",
       "      <td>0</td>\n",
       "      <td>1</td>\n",
       "      <td>0</td>\n",
       "      <td>0</td>\n",
       "      <td>0</td>\n",
       "      <td>0</td>\n",
       "      <td>1</td>\n",
       "      <td>0</td>\n",
       "      <td>0</td>\n",
       "      <td>0</td>\n",
       "    </tr>\n",
       "  </tbody>\n",
       "</table>\n",
       "<p>5 rows × 32 columns</p>\n",
       "</div>"
      ],
      "text/plain": [
       "   Brand_test  Car_Name_test  Version_test  Year  Kilometers_Driven  Mileage  \\\n",
       "0          15             16           447    13              40929    32.26   \n",
       "1          15             16           252    12              54493    24.70   \n",
       "2          25             78           351    16              34000    13.68   \n",
       "4           8            158           476    13              29000    18.50   \n",
       "5          14            151           636    15              85609    16.00   \n",
       "\n",
       "   Engine   Power  Location_Bangalore  Location_Chennai  ...  \\\n",
       "0   998.0   58.20                   0                 0  ...   \n",
       "1   796.0   47.30                   0                 0  ...   \n",
       "2  2393.0  147.80                   0                 0  ...   \n",
       "4  1197.0   82.85                   0                 0  ...   \n",
       "5  2179.0  140.00                   0                 0  ...   \n",
       "\n",
       "   Owner_Fourth & Above  Owner_Second  Owner_Third  Seats_4.0  Seats_5.0  \\\n",
       "0                     0             0            0          1          0   \n",
       "1                     0             1            0          0          1   \n",
       "2                     0             0            0          0          0   \n",
       "4                     0             0            0          0          1   \n",
       "5                     0             1            0          0          0   \n",
       "\n",
       "   Seats_6.0  Seats_7.0  Seats_8.0  Seats_9.0  Seats_10.0  \n",
       "0          0          0          0          0           0  \n",
       "1          0          0          0          0           0  \n",
       "2          0          1          0          0           0  \n",
       "4          0          0          0          0           0  \n",
       "5          0          1          0          0           0  \n",
       "\n",
       "[5 rows x 32 columns]"
      ]
     },
     "execution_count": 44,
     "metadata": {},
     "output_type": "execute_result"
    }
   ],
   "source": [
    "df_test.head()"
   ]
  },
  {
   "cell_type": "code",
   "execution_count": 45,
   "metadata": {
    "scrolled": true
   },
   "outputs": [
    {
     "name": "stdout",
     "output_type": "stream",
     "text": [
      "<class 'pandas.core.frame.DataFrame'>\n",
      "Int64Index: 5872 entries, 0 to 6018\n",
      "Data columns (total 33 columns):\n",
      " #   Column                Non-Null Count  Dtype  \n",
      "---  ------                --------------  -----  \n",
      " 0   Brand                 5872 non-null   int32  \n",
      " 1   Car_Name              5872 non-null   int32  \n",
      " 2   Version               5872 non-null   int32  \n",
      " 3   Year                  5872 non-null   int64  \n",
      " 4   Kilometers_Driven     5872 non-null   int64  \n",
      " 5   Mileage               5872 non-null   float64\n",
      " 6   Engine                5872 non-null   float64\n",
      " 7   Power                 5872 non-null   float64\n",
      " 8   Price                 5872 non-null   float64\n",
      " 9   Location_Bangalore    5872 non-null   uint8  \n",
      " 10  Location_Chennai      5872 non-null   uint8  \n",
      " 11  Location_Coimbatore   5872 non-null   uint8  \n",
      " 12  Location_Delhi        5872 non-null   uint8  \n",
      " 13  Location_Hyderabad    5872 non-null   uint8  \n",
      " 14  Location_Jaipur       5872 non-null   uint8  \n",
      " 15  Location_Kochi        5872 non-null   uint8  \n",
      " 16  Location_Kolkata      5872 non-null   uint8  \n",
      " 17  Location_Mumbai       5872 non-null   uint8  \n",
      " 18  Location_Pune         5872 non-null   uint8  \n",
      " 19  Fueltype_Diesel       5872 non-null   uint8  \n",
      " 20  Fueltype_LPG          5872 non-null   uint8  \n",
      " 21  Fueltype_Petrol       5872 non-null   uint8  \n",
      " 22  Transmission_Manual   5872 non-null   uint8  \n",
      " 23  Owner_Fourth & Above  5872 non-null   uint8  \n",
      " 24  Owner_Second          5872 non-null   uint8  \n",
      " 25  Owner_Third           5872 non-null   uint8  \n",
      " 26  Seats_4.0             5872 non-null   uint8  \n",
      " 27  Seats_5.0             5872 non-null   uint8  \n",
      " 28  Seats_6.0             5872 non-null   uint8  \n",
      " 29  Seats_7.0             5872 non-null   uint8  \n",
      " 30  Seats_8.0             5872 non-null   uint8  \n",
      " 31  Seats_9.0             5872 non-null   uint8  \n",
      " 32  Seats_10.0            5872 non-null   uint8  \n",
      "dtypes: float64(4), int32(3), int64(2), uint8(24)\n",
      "memory usage: 656.6 KB\n"
     ]
    }
   ],
   "source": [
    "df.info()"
   ]
  },
  {
   "cell_type": "code",
   "execution_count": 46,
   "metadata": {},
   "outputs": [
    {
     "name": "stdout",
     "output_type": "stream",
     "text": [
      "<class 'pandas.core.frame.DataFrame'>\n",
      "Int64Index: 1200 entries, 0 to 1233\n",
      "Data columns (total 32 columns):\n",
      " #   Column                Non-Null Count  Dtype  \n",
      "---  ------                --------------  -----  \n",
      " 0   Brand_test            1200 non-null   int32  \n",
      " 1   Car_Name_test         1200 non-null   int32  \n",
      " 2   Version_test          1200 non-null   int32  \n",
      " 3   Year                  1200 non-null   int64  \n",
      " 4   Kilometers_Driven     1200 non-null   int64  \n",
      " 5   Mileage               1200 non-null   float64\n",
      " 6   Engine                1200 non-null   float64\n",
      " 7   Power                 1200 non-null   float64\n",
      " 8   Location_Bangalore    1200 non-null   uint8  \n",
      " 9   Location_Chennai      1200 non-null   uint8  \n",
      " 10  Location_Coimbatore   1200 non-null   uint8  \n",
      " 11  Location_Delhi        1200 non-null   uint8  \n",
      " 12  Location_Hyderabad    1200 non-null   uint8  \n",
      " 13  Location_Jaipur       1200 non-null   uint8  \n",
      " 14  Location_Kochi        1200 non-null   uint8  \n",
      " 15  Location_Kolkata      1200 non-null   uint8  \n",
      " 16  Location_Mumbai       1200 non-null   uint8  \n",
      " 17  Location_Pune         1200 non-null   uint8  \n",
      " 18  Fueltype_Diesel       1200 non-null   uint8  \n",
      " 19  Fueltype_LPG          1200 non-null   uint8  \n",
      " 20  Fueltype_Petrol       1200 non-null   uint8  \n",
      " 21  Transmission_Manual   1200 non-null   uint8  \n",
      " 22  Owner_Fourth & Above  1200 non-null   uint8  \n",
      " 23  Owner_Second          1200 non-null   uint8  \n",
      " 24  Owner_Third           1200 non-null   uint8  \n",
      " 25  Seats_4.0             1200 non-null   uint8  \n",
      " 26  Seats_5.0             1200 non-null   uint8  \n",
      " 27  Seats_6.0             1200 non-null   uint8  \n",
      " 28  Seats_7.0             1200 non-null   uint8  \n",
      " 29  Seats_8.0             1200 non-null   uint8  \n",
      " 30  Seats_9.0             1200 non-null   int64  \n",
      " 31  Seats_10.0            1200 non-null   uint8  \n",
      "dtypes: float64(3), int32(3), int64(3), uint8(23)\n",
      "memory usage: 106.6 KB\n"
     ]
    }
   ],
   "source": [
    "df_test.info()"
   ]
  },
  {
   "cell_type": "markdown",
   "metadata": {},
   "source": [
    "# Models"
   ]
  },
  {
   "cell_type": "code",
   "execution_count": 51,
   "metadata": {},
   "outputs": [],
   "source": [
    "from sklearn.model_selection import train_test_split\n",
    "\n",
    "X_train, X_test, y_train, y_test = train_test_split(df.loc[:,df.columns!='Price'],df['Price'], test_size = 0.20, random_state = 1)"
   ]
  },
  {
   "cell_type": "markdown",
   "metadata": {},
   "source": [
    "# Random Forest Regressor"
   ]
  },
  {
   "cell_type": "code",
   "execution_count": 52,
   "metadata": {},
   "outputs": [
    {
     "name": "stdout",
     "output_type": "stream",
     "text": [
      "{'max_depth': 4, 'n_estimators': 500}\n",
      "RandomForestRegressor(max_depth=4, n_estimators=500)\n"
     ]
    }
   ],
   "source": [
    "from sklearn.model_selection import GridSearchCV\n",
    "from sklearn.ensemble import RandomForestRegressor\n",
    "model=RandomForestRegressor()\n",
    "param_grid = {\n",
    "              'n_estimators': [90,100,500],\n",
    "              'max_depth':[2,3,4],\n",
    "             } \n",
    "  \n",
    "grid = GridSearchCV(model, param_grid, refit = True, verbose = False)\n",
    "\n",
    "grid.fit(X_train, y_train)\n",
    "\n",
    "print(grid.best_params_)\n",
    "print(grid.best_estimator_)"
   ]
  },
  {
   "cell_type": "code",
   "execution_count": 54,
   "metadata": {},
   "outputs": [
    {
     "name": "stdout",
     "output_type": "stream",
     "text": [
      "Accuracy of training set is 0.8419817869878908\n",
      "Accuracy of test set is 0.8647800212955302\n"
     ]
    }
   ],
   "source": [
    "model=RandomForestRegressor(max_depth= 4, n_estimators= 500)\n",
    "rfg=model.fit(X_train,y_train)\n",
    "\n",
    "print(\"Accuracy of training set is {}\".format(rfg.score(X_train, y_train)))\n",
    "print(\"Accuracy of test set is {}\".format(rfg.score(X_test, y_test)))"
   ]
  },
  {
   "cell_type": "markdown",
   "metadata": {},
   "source": [
    "# Linear Regression"
   ]
  },
  {
   "cell_type": "code",
   "execution_count": 56,
   "metadata": {},
   "outputs": [
    {
     "name": "stdout",
     "output_type": "stream",
     "text": [
      "Accuracy of training set is 0.7099046831143215\n",
      "Accuracy of test set is 0.7378411105841733\n"
     ]
    }
   ],
   "source": [
    "from sklearn.linear_model import LinearRegression\n",
    "lr=LinearRegression()\n",
    "lr.fit(X_train,y_train)\n",
    "\n",
    "print(\"Accuracy of training set is {}\".format(lr.score(X_train, y_train)))\n",
    "print(\"Accuracy of test set is {}\".format(lr.score(X_test, y_test)))"
   ]
  },
  {
   "cell_type": "markdown",
   "metadata": {},
   "source": [
    "# Gradient Boosting Regressor"
   ]
  },
  {
   "cell_type": "code",
   "execution_count": 59,
   "metadata": {},
   "outputs": [
    {
     "name": "stdout",
     "output_type": "stream",
     "text": [
      "{'max_depth': 4, 'max_features': 'auto', 'n_estimators': 500}\n",
      "GradientBoostingRegressor(max_depth=4, max_features='auto', n_estimators=500)\n"
     ]
    }
   ],
   "source": [
    "from sklearn.ensemble import GradientBoostingRegressor\n",
    "gbr = GradientBoostingRegressor()\n",
    "param_grid = {'max_features' : ['sqrt','auto'],\n",
    "              'n_estimators': [90,100,500],\n",
    "              'max_depth':[2,3,4],\n",
    "             } \n",
    "  \n",
    "grid = GridSearchCV(gbr, param_grid, refit = True, verbose = False)\n",
    "\n",
    "grid.fit(X_train, y_train)\n",
    "\n",
    "print(grid.best_params_)\n",
    "print(grid.best_estimator_)"
   ]
  },
  {
   "cell_type": "code",
   "execution_count": 60,
   "metadata": {},
   "outputs": [
    {
     "name": "stdout",
     "output_type": "stream",
     "text": [
      "Accuracy on training set is 0.9933664347636715\n",
      "Accuracy on test set is 0.9365017592958946\n"
     ]
    }
   ],
   "source": [
    "gbr = GradientBoostingRegressor(max_depth= 4, max_features= 'auto', n_estimators= 500)\n",
    "gbr.fit(X_train, y_train)\n",
    "\n",
    "print(\"Accuracy on training set is {}\".format(gbr.score(X_train, y_train)))\n",
    "print(\"Accuracy on test set is {}\".format(gbr.score(X_test, y_test)))"
   ]
  },
  {
   "cell_type": "markdown",
   "metadata": {},
   "source": [
    "# Implementing Gradient Boosting Regressor"
   ]
  },
  {
   "cell_type": "code",
   "execution_count": 61,
   "metadata": {},
   "outputs": [],
   "source": [
    "y_pred = gbr.predict(X_test)"
   ]
  },
  {
   "cell_type": "code",
   "execution_count": 62,
   "metadata": {},
   "outputs": [],
   "source": [
    "y_pred=pd.DataFrame({'y_pred':y_pred})"
   ]
  },
  {
   "cell_type": "code",
   "execution_count": 63,
   "metadata": {
    "scrolled": true
   },
   "outputs": [
    {
     "data": {
      "text/html": [
       "<div>\n",
       "<style scoped>\n",
       "    .dataframe tbody tr th:only-of-type {\n",
       "        vertical-align: middle;\n",
       "    }\n",
       "\n",
       "    .dataframe tbody tr th {\n",
       "        vertical-align: top;\n",
       "    }\n",
       "\n",
       "    .dataframe thead th {\n",
       "        text-align: right;\n",
       "    }\n",
       "</style>\n",
       "<table border=\"1\" class=\"dataframe\">\n",
       "  <thead>\n",
       "    <tr style=\"text-align: right;\">\n",
       "      <th></th>\n",
       "      <th>y_pred</th>\n",
       "    </tr>\n",
       "  </thead>\n",
       "  <tbody>\n",
       "    <tr>\n",
       "      <th>0</th>\n",
       "      <td>12.477007</td>\n",
       "    </tr>\n",
       "    <tr>\n",
       "      <th>1</th>\n",
       "      <td>5.946960</td>\n",
       "    </tr>\n",
       "    <tr>\n",
       "      <th>2</th>\n",
       "      <td>13.231535</td>\n",
       "    </tr>\n",
       "    <tr>\n",
       "      <th>3</th>\n",
       "      <td>2.666863</td>\n",
       "    </tr>\n",
       "    <tr>\n",
       "      <th>4</th>\n",
       "      <td>3.337888</td>\n",
       "    </tr>\n",
       "    <tr>\n",
       "      <th>...</th>\n",
       "      <td>...</td>\n",
       "    </tr>\n",
       "    <tr>\n",
       "      <th>1170</th>\n",
       "      <td>6.432148</td>\n",
       "    </tr>\n",
       "    <tr>\n",
       "      <th>1171</th>\n",
       "      <td>6.615668</td>\n",
       "    </tr>\n",
       "    <tr>\n",
       "      <th>1172</th>\n",
       "      <td>2.604866</td>\n",
       "    </tr>\n",
       "    <tr>\n",
       "      <th>1173</th>\n",
       "      <td>5.444906</td>\n",
       "    </tr>\n",
       "    <tr>\n",
       "      <th>1174</th>\n",
       "      <td>1.973847</td>\n",
       "    </tr>\n",
       "  </tbody>\n",
       "</table>\n",
       "<p>1175 rows × 1 columns</p>\n",
       "</div>"
      ],
      "text/plain": [
       "         y_pred\n",
       "0     12.477007\n",
       "1      5.946960\n",
       "2     13.231535\n",
       "3      2.666863\n",
       "4      3.337888\n",
       "...         ...\n",
       "1170   6.432148\n",
       "1171   6.615668\n",
       "1172   2.604866\n",
       "1173   5.444906\n",
       "1174   1.973847\n",
       "\n",
       "[1175 rows x 1 columns]"
      ]
     },
     "execution_count": 63,
     "metadata": {},
     "output_type": "execute_result"
    }
   ],
   "source": [
    "y_pred"
   ]
  }
 ],
 "metadata": {
  "kernelspec": {
   "display_name": "Python 3",
   "language": "python",
   "name": "python3"
  },
  "language_info": {
   "codemirror_mode": {
    "name": "ipython",
    "version": 3
   },
   "file_extension": ".py",
   "mimetype": "text/x-python",
   "name": "python",
   "nbconvert_exporter": "python",
   "pygments_lexer": "ipython3",
   "version": "3.8.8"
  }
 },
 "nbformat": 4,
 "nbformat_minor": 2
}
